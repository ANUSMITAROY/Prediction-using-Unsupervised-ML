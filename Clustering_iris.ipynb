{
 "cells": [
  {
   "cell_type": "code",
   "execution_count": 42,
   "metadata": {},
   "outputs": [],
   "source": [
    "import warnings\n",
    "warnings.filterwarnings('ignore')"
   ]
  },
  {
   "cell_type": "code",
   "execution_count": 43,
   "metadata": {},
   "outputs": [],
   "source": [
    "import numpy as np\n",
    "import pandas as pd\n",
    "import seaborn as sns\n",
    "import matplotlib.pyplot as plt\n"
   ]
  },
  {
   "cell_type": "markdown",
   "metadata": {},
   "source": [
    "### Reading and understanding the data:"
   ]
  },
  {
   "cell_type": "code",
   "execution_count": 44,
   "metadata": {},
   "outputs": [
    {
     "data": {
      "text/html": [
       "<div>\n",
       "<style scoped>\n",
       "    .dataframe tbody tr th:only-of-type {\n",
       "        vertical-align: middle;\n",
       "    }\n",
       "\n",
       "    .dataframe tbody tr th {\n",
       "        vertical-align: top;\n",
       "    }\n",
       "\n",
       "    .dataframe thead th {\n",
       "        text-align: right;\n",
       "    }\n",
       "</style>\n",
       "<table border=\"1\" class=\"dataframe\">\n",
       "  <thead>\n",
       "    <tr style=\"text-align: right;\">\n",
       "      <th></th>\n",
       "      <th>Id</th>\n",
       "      <th>SepalLengthCm</th>\n",
       "      <th>SepalWidthCm</th>\n",
       "      <th>PetalLengthCm</th>\n",
       "      <th>PetalWidthCm</th>\n",
       "      <th>Species</th>\n",
       "    </tr>\n",
       "  </thead>\n",
       "  <tbody>\n",
       "    <tr>\n",
       "      <th>0</th>\n",
       "      <td>1</td>\n",
       "      <td>5.1</td>\n",
       "      <td>3.5</td>\n",
       "      <td>1.4</td>\n",
       "      <td>0.2</td>\n",
       "      <td>Iris-setosa</td>\n",
       "    </tr>\n",
       "    <tr>\n",
       "      <th>1</th>\n",
       "      <td>2</td>\n",
       "      <td>4.9</td>\n",
       "      <td>3.0</td>\n",
       "      <td>1.4</td>\n",
       "      <td>0.2</td>\n",
       "      <td>Iris-setosa</td>\n",
       "    </tr>\n",
       "    <tr>\n",
       "      <th>2</th>\n",
       "      <td>3</td>\n",
       "      <td>4.7</td>\n",
       "      <td>3.2</td>\n",
       "      <td>1.3</td>\n",
       "      <td>0.2</td>\n",
       "      <td>Iris-setosa</td>\n",
       "    </tr>\n",
       "    <tr>\n",
       "      <th>3</th>\n",
       "      <td>4</td>\n",
       "      <td>4.6</td>\n",
       "      <td>3.1</td>\n",
       "      <td>1.5</td>\n",
       "      <td>0.2</td>\n",
       "      <td>Iris-setosa</td>\n",
       "    </tr>\n",
       "    <tr>\n",
       "      <th>4</th>\n",
       "      <td>5</td>\n",
       "      <td>5.0</td>\n",
       "      <td>3.6</td>\n",
       "      <td>1.4</td>\n",
       "      <td>0.2</td>\n",
       "      <td>Iris-setosa</td>\n",
       "    </tr>\n",
       "  </tbody>\n",
       "</table>\n",
       "</div>"
      ],
      "text/plain": [
       "   Id  SepalLengthCm  SepalWidthCm  PetalLengthCm  PetalWidthCm      Species\n",
       "0   1            5.1           3.5            1.4           0.2  Iris-setosa\n",
       "1   2            4.9           3.0            1.4           0.2  Iris-setosa\n",
       "2   3            4.7           3.2            1.3           0.2  Iris-setosa\n",
       "3   4            4.6           3.1            1.5           0.2  Iris-setosa\n",
       "4   5            5.0           3.6            1.4           0.2  Iris-setosa"
      ]
     },
     "execution_count": 44,
     "metadata": {},
     "output_type": "execute_result"
    }
   ],
   "source": [
    "iris_data=pd.read_csv(\"D:\\\\Sparks_data\\\\iris.csv\")\n",
    "iris_data.head()"
   ]
  },
  {
   "cell_type": "code",
   "execution_count": 45,
   "metadata": {},
   "outputs": [
    {
     "data": {
      "text/plain": [
       "Id               0\n",
       "SepalLengthCm    0\n",
       "SepalWidthCm     0\n",
       "PetalLengthCm    0\n",
       "PetalWidthCm     0\n",
       "Species          0\n",
       "dtype: int64"
      ]
     },
     "execution_count": 45,
     "metadata": {},
     "output_type": "execute_result"
    }
   ],
   "source": [
    "# Checking for null values\n",
    "iris_data.isnull().sum()"
   ]
  },
  {
   "cell_type": "code",
   "execution_count": 46,
   "metadata": {},
   "outputs": [
    {
     "data": {
      "text/plain": [
       "(150, 6)"
      ]
     },
     "execution_count": 46,
     "metadata": {},
     "output_type": "execute_result"
    }
   ],
   "source": [
    "iris_data.shape"
   ]
  },
  {
   "cell_type": "code",
   "execution_count": 47,
   "metadata": {},
   "outputs": [
    {
     "data": {
      "text/html": [
       "<div>\n",
       "<style scoped>\n",
       "    .dataframe tbody tr th:only-of-type {\n",
       "        vertical-align: middle;\n",
       "    }\n",
       "\n",
       "    .dataframe tbody tr th {\n",
       "        vertical-align: top;\n",
       "    }\n",
       "\n",
       "    .dataframe thead th {\n",
       "        text-align: right;\n",
       "    }\n",
       "</style>\n",
       "<table border=\"1\" class=\"dataframe\">\n",
       "  <thead>\n",
       "    <tr style=\"text-align: right;\">\n",
       "      <th></th>\n",
       "      <th>Id</th>\n",
       "      <th>SepalLengthCm</th>\n",
       "      <th>SepalWidthCm</th>\n",
       "      <th>PetalLengthCm</th>\n",
       "      <th>PetalWidthCm</th>\n",
       "    </tr>\n",
       "  </thead>\n",
       "  <tbody>\n",
       "    <tr>\n",
       "      <th>count</th>\n",
       "      <td>150.000000</td>\n",
       "      <td>150.000000</td>\n",
       "      <td>150.000000</td>\n",
       "      <td>150.000000</td>\n",
       "      <td>150.000000</td>\n",
       "    </tr>\n",
       "    <tr>\n",
       "      <th>mean</th>\n",
       "      <td>75.500000</td>\n",
       "      <td>5.843333</td>\n",
       "      <td>3.054000</td>\n",
       "      <td>3.758667</td>\n",
       "      <td>1.198667</td>\n",
       "    </tr>\n",
       "    <tr>\n",
       "      <th>std</th>\n",
       "      <td>43.445368</td>\n",
       "      <td>0.828066</td>\n",
       "      <td>0.433594</td>\n",
       "      <td>1.764420</td>\n",
       "      <td>0.763161</td>\n",
       "    </tr>\n",
       "    <tr>\n",
       "      <th>min</th>\n",
       "      <td>1.000000</td>\n",
       "      <td>4.300000</td>\n",
       "      <td>2.000000</td>\n",
       "      <td>1.000000</td>\n",
       "      <td>0.100000</td>\n",
       "    </tr>\n",
       "    <tr>\n",
       "      <th>25%</th>\n",
       "      <td>38.250000</td>\n",
       "      <td>5.100000</td>\n",
       "      <td>2.800000</td>\n",
       "      <td>1.600000</td>\n",
       "      <td>0.300000</td>\n",
       "    </tr>\n",
       "    <tr>\n",
       "      <th>50%</th>\n",
       "      <td>75.500000</td>\n",
       "      <td>5.800000</td>\n",
       "      <td>3.000000</td>\n",
       "      <td>4.350000</td>\n",
       "      <td>1.300000</td>\n",
       "    </tr>\n",
       "    <tr>\n",
       "      <th>75%</th>\n",
       "      <td>112.750000</td>\n",
       "      <td>6.400000</td>\n",
       "      <td>3.300000</td>\n",
       "      <td>5.100000</td>\n",
       "      <td>1.800000</td>\n",
       "    </tr>\n",
       "    <tr>\n",
       "      <th>max</th>\n",
       "      <td>150.000000</td>\n",
       "      <td>7.900000</td>\n",
       "      <td>4.400000</td>\n",
       "      <td>6.900000</td>\n",
       "      <td>2.500000</td>\n",
       "    </tr>\n",
       "  </tbody>\n",
       "</table>\n",
       "</div>"
      ],
      "text/plain": [
       "               Id  SepalLengthCm  SepalWidthCm  PetalLengthCm  PetalWidthCm\n",
       "count  150.000000     150.000000    150.000000     150.000000    150.000000\n",
       "mean    75.500000       5.843333      3.054000       3.758667      1.198667\n",
       "std     43.445368       0.828066      0.433594       1.764420      0.763161\n",
       "min      1.000000       4.300000      2.000000       1.000000      0.100000\n",
       "25%     38.250000       5.100000      2.800000       1.600000      0.300000\n",
       "50%     75.500000       5.800000      3.000000       4.350000      1.300000\n",
       "75%    112.750000       6.400000      3.300000       5.100000      1.800000\n",
       "max    150.000000       7.900000      4.400000       6.900000      2.500000"
      ]
     },
     "execution_count": 47,
     "metadata": {},
     "output_type": "execute_result"
    }
   ],
   "source": [
    "iris_data.describe()"
   ]
  },
  {
   "cell_type": "code",
   "execution_count": 48,
   "metadata": {},
   "outputs": [
    {
     "name": "stdout",
     "output_type": "stream",
     "text": [
      "<class 'pandas.core.frame.DataFrame'>\n",
      "RangeIndex: 150 entries, 0 to 149\n",
      "Data columns (total 6 columns):\n",
      " #   Column         Non-Null Count  Dtype  \n",
      "---  ------         --------------  -----  \n",
      " 0   Id             150 non-null    int64  \n",
      " 1   SepalLengthCm  150 non-null    float64\n",
      " 2   SepalWidthCm   150 non-null    float64\n",
      " 3   PetalLengthCm  150 non-null    float64\n",
      " 4   PetalWidthCm   150 non-null    float64\n",
      " 5   Species        150 non-null    object \n",
      "dtypes: float64(4), int64(1), object(1)\n",
      "memory usage: 7.2+ KB\n"
     ]
    }
   ],
   "source": [
    "iris_data.info()"
   ]
  },
  {
   "cell_type": "markdown",
   "metadata": {},
   "source": [
    "### Checking whether our data is fit for clustering or not using Hopkins Statistics:"
   ]
  },
  {
   "cell_type": "code",
   "execution_count": 49,
   "metadata": {},
   "outputs": [],
   "source": [
    "#Calculating the Hopkins statistic\n",
    "import sklearn\n",
    "from sklearn.neighbors import NearestNeighbors\n",
    "from random import sample\n",
    "from numpy.random import uniform\n",
    "import numpy as np\n",
    "from math import isnan\n",
    " \n",
    "def hopkins(X):\n",
    "    d = X.shape[1]\n",
    "    #d = len(vars) # columns\n",
    "    n = len(X) # rows\n",
    "    m = int(0.1 * n) \n",
    "    nbrs = NearestNeighbors(n_neighbors=1).fit(X.values)\n",
    " \n",
    "    rand_X = sample(range(0, n, 1), m)\n",
    " \n",
    "    ujd = []\n",
    "    wjd = []\n",
    "    for j in range(0, m):\n",
    "        u_dist, _ = nbrs.kneighbors(uniform(np.amin(X,axis=0),np.amax(X,axis=0),d).reshape(1, -1), 2, return_distance=True)\n",
    "        ujd.append(u_dist[0][1])\n",
    "        w_dist, _ = nbrs.kneighbors(X.iloc[rand_X[j]].values.reshape(1, -1), 2, return_distance=True)\n",
    "        wjd.append(w_dist[0][1])\n",
    " \n",
    "    H = sum(ujd) / (sum(ujd) + sum(wjd))\n",
    "    if isnan(H):\n",
    "        print(ujd, wjd)\n",
    "        H = 0\n",
    " \n",
    "    return H"
   ]
  },
  {
   "cell_type": "code",
   "execution_count": 50,
   "metadata": {},
   "outputs": [
    {
     "data": {
      "text/plain": [
       "0.7208496239835923"
      ]
     },
     "execution_count": 50,
     "metadata": {},
     "output_type": "execute_result"
    }
   ],
   "source": [
    "# T0 see how different is our data from the randomly scattered data:\n",
    "\n",
    "hopkins(iris_data.drop('Species', axis=1))"
   ]
  },
  {
   "cell_type": "markdown",
   "metadata": {},
   "source": [
    "#### Inference 1 : The more the dataset is different from the random distribution, it is better to perform clustering on the given dataset. Therefore, we can perform clustering on this dataset."
   ]
  },
  {
   "cell_type": "markdown",
   "metadata": {},
   "source": [
    "### Rescaling the data:"
   ]
  },
  {
   "cell_type": "code",
   "execution_count": 51,
   "metadata": {},
   "outputs": [
    {
     "data": {
      "text/plain": [
       "array([[-1.72054204e+00, -9.00681170e-01,  1.03205722e+00,\n",
       "        -1.34127240e+00, -1.31297673e+00],\n",
       "       [-1.69744751e+00, -1.14301691e+00, -1.24957601e-01,\n",
       "        -1.34127240e+00, -1.31297673e+00],\n",
       "       [-1.67435299e+00, -1.38535265e+00,  3.37848329e-01,\n",
       "        -1.39813811e+00, -1.31297673e+00],\n",
       "       [-1.65125846e+00, -1.50652052e+00,  1.06445364e-01,\n",
       "        -1.28440670e+00, -1.31297673e+00],\n",
       "       [-1.62816394e+00, -1.02184904e+00,  1.26346019e+00,\n",
       "        -1.34127240e+00, -1.31297673e+00],\n",
       "       [-1.60506942e+00, -5.37177559e-01,  1.95766909e+00,\n",
       "        -1.17067529e+00, -1.05003079e+00],\n",
       "       [-1.58197489e+00, -1.50652052e+00,  8.00654259e-01,\n",
       "        -1.34127240e+00, -1.18150376e+00],\n",
       "       [-1.55888037e+00, -1.02184904e+00,  8.00654259e-01,\n",
       "        -1.28440670e+00, -1.31297673e+00],\n",
       "       [-1.53578584e+00, -1.74885626e+00, -3.56360566e-01,\n",
       "        -1.34127240e+00, -1.31297673e+00],\n",
       "       [-1.51269132e+00, -1.14301691e+00,  1.06445364e-01,\n",
       "        -1.28440670e+00, -1.44444970e+00],\n",
       "       [-1.48959680e+00, -5.37177559e-01,  1.49486315e+00,\n",
       "        -1.28440670e+00, -1.31297673e+00],\n",
       "       [-1.46650227e+00, -1.26418478e+00,  8.00654259e-01,\n",
       "        -1.22754100e+00, -1.31297673e+00],\n",
       "       [-1.44340775e+00, -1.26418478e+00, -1.24957601e-01,\n",
       "        -1.34127240e+00, -1.44444970e+00],\n",
       "       [-1.42031323e+00, -1.87002413e+00, -1.24957601e-01,\n",
       "        -1.51186952e+00, -1.44444970e+00],\n",
       "       [-1.39721870e+00, -5.25060772e-02,  2.18907205e+00,\n",
       "        -1.45500381e+00, -1.31297673e+00],\n",
       "       [-1.37412418e+00, -1.73673948e-01,  3.11468391e+00,\n",
       "        -1.28440670e+00, -1.05003079e+00],\n",
       "       [-1.35102965e+00, -5.37177559e-01,  1.95766909e+00,\n",
       "        -1.39813811e+00, -1.05003079e+00],\n",
       "       [-1.32793513e+00, -9.00681170e-01,  1.03205722e+00,\n",
       "        -1.34127240e+00, -1.18150376e+00],\n",
       "       [-1.30484061e+00, -1.73673948e-01,  1.72626612e+00,\n",
       "        -1.17067529e+00, -1.18150376e+00],\n",
       "       [-1.28174608e+00, -9.00681170e-01,  1.72626612e+00,\n",
       "        -1.28440670e+00, -1.18150376e+00],\n",
       "       [-1.25865156e+00, -5.37177559e-01,  8.00654259e-01,\n",
       "        -1.17067529e+00, -1.31297673e+00],\n",
       "       [-1.23555703e+00, -9.00681170e-01,  1.49486315e+00,\n",
       "        -1.28440670e+00, -1.05003079e+00],\n",
       "       [-1.21246251e+00, -1.50652052e+00,  1.26346019e+00,\n",
       "        -1.56873522e+00, -1.31297673e+00],\n",
       "       [-1.18936799e+00, -9.00681170e-01,  5.69251294e-01,\n",
       "        -1.17067529e+00, -9.18557817e-01],\n",
       "       [-1.16627346e+00, -1.26418478e+00,  8.00654259e-01,\n",
       "        -1.05694388e+00, -1.31297673e+00],\n",
       "       [-1.14317894e+00, -1.02184904e+00, -1.24957601e-01,\n",
       "        -1.22754100e+00, -1.31297673e+00],\n",
       "       [-1.12008441e+00, -1.02184904e+00,  8.00654259e-01,\n",
       "        -1.22754100e+00, -1.05003079e+00],\n",
       "       [-1.09698989e+00, -7.79513300e-01,  1.03205722e+00,\n",
       "        -1.28440670e+00, -1.31297673e+00],\n",
       "       [-1.07389537e+00, -7.79513300e-01,  8.00654259e-01,\n",
       "        -1.34127240e+00, -1.31297673e+00],\n",
       "       [-1.05080084e+00, -1.38535265e+00,  3.37848329e-01,\n",
       "        -1.22754100e+00, -1.31297673e+00],\n",
       "       [-1.02770632e+00, -1.26418478e+00,  1.06445364e-01,\n",
       "        -1.22754100e+00, -1.31297673e+00],\n",
       "       [-1.00461179e+00, -5.37177559e-01,  8.00654259e-01,\n",
       "        -1.28440670e+00, -1.05003079e+00],\n",
       "       [-9.81517269e-01, -7.79513300e-01,  2.42047502e+00,\n",
       "        -1.28440670e+00, -1.44444970e+00],\n",
       "       [-9.58422745e-01, -4.16009689e-01,  2.65187798e+00,\n",
       "        -1.34127240e+00, -1.31297673e+00],\n",
       "       [-9.35328221e-01, -1.14301691e+00,  1.06445364e-01,\n",
       "        -1.28440670e+00, -1.44444970e+00],\n",
       "       [-9.12233697e-01, -1.02184904e+00,  3.37848329e-01,\n",
       "        -1.45500381e+00, -1.31297673e+00],\n",
       "       [-8.89139173e-01, -4.16009689e-01,  1.03205722e+00,\n",
       "        -1.39813811e+00, -1.31297673e+00],\n",
       "       [-8.66044649e-01, -1.14301691e+00,  1.06445364e-01,\n",
       "        -1.28440670e+00, -1.44444970e+00],\n",
       "       [-8.42950125e-01, -1.74885626e+00, -1.24957601e-01,\n",
       "        -1.39813811e+00, -1.31297673e+00],\n",
       "       [-8.19855601e-01, -9.00681170e-01,  8.00654259e-01,\n",
       "        -1.28440670e+00, -1.31297673e+00],\n",
       "       [-7.96761077e-01, -1.02184904e+00,  1.03205722e+00,\n",
       "        -1.39813811e+00, -1.18150376e+00],\n",
       "       [-7.73666553e-01, -1.62768839e+00, -1.74477836e+00,\n",
       "        -1.39813811e+00, -1.18150376e+00],\n",
       "       [-7.50572030e-01, -1.74885626e+00,  3.37848329e-01,\n",
       "        -1.39813811e+00, -1.31297673e+00],\n",
       "       [-7.27477506e-01, -1.02184904e+00,  1.03205722e+00,\n",
       "        -1.22754100e+00, -7.87084847e-01],\n",
       "       [-7.04382982e-01, -9.00681170e-01,  1.72626612e+00,\n",
       "        -1.05694388e+00, -1.05003079e+00],\n",
       "       [-6.81288458e-01, -1.26418478e+00, -1.24957601e-01,\n",
       "        -1.34127240e+00, -1.18150376e+00],\n",
       "       [-6.58193934e-01, -9.00681170e-01,  1.72626612e+00,\n",
       "        -1.22754100e+00, -1.31297673e+00],\n",
       "       [-6.35099410e-01, -1.50652052e+00,  3.37848329e-01,\n",
       "        -1.34127240e+00, -1.31297673e+00],\n",
       "       [-6.12004886e-01, -6.58345429e-01,  1.49486315e+00,\n",
       "        -1.28440670e+00, -1.31297673e+00],\n",
       "       [-5.88910362e-01, -1.02184904e+00,  5.69251294e-01,\n",
       "        -1.34127240e+00, -1.31297673e+00],\n",
       "       [-5.65815838e-01,  1.40150837e+00,  3.37848329e-01,\n",
       "         5.35295827e-01,  2.64698913e-01],\n",
       "       [-5.42721314e-01,  6.74501145e-01,  3.37848329e-01,\n",
       "         4.21564419e-01,  3.96171883e-01],\n",
       "       [-5.19626790e-01,  1.28034050e+00,  1.06445364e-01,\n",
       "         6.49027235e-01,  3.96171883e-01],\n",
       "       [-4.96532266e-01, -4.16009689e-01, -1.74477836e+00,\n",
       "         1.37235899e-01,  1.33225943e-01],\n",
       "       [-4.73437742e-01,  7.95669016e-01, -5.87763531e-01,\n",
       "         4.78430123e-01,  3.96171883e-01],\n",
       "       [-4.50343218e-01, -1.73673948e-01, -5.87763531e-01,\n",
       "         4.21564419e-01,  1.33225943e-01],\n",
       "       [-4.27248694e-01,  5.53333275e-01,  5.69251294e-01,\n",
       "         5.35295827e-01,  5.27644853e-01],\n",
       "       [-4.04154170e-01, -1.14301691e+00, -1.51337539e+00,\n",
       "        -2.60824029e-01, -2.61192967e-01],\n",
       "       [-3.81059646e-01,  9.16836886e-01, -3.56360566e-01,\n",
       "         4.78430123e-01,  1.33225943e-01],\n",
       "       [-3.57965122e-01, -7.79513300e-01, -8.19166497e-01,\n",
       "         8.03701950e-02,  2.64698913e-01],\n",
       "       [-3.34870598e-01, -1.02184904e+00, -2.43898725e+00,\n",
       "        -1.47092621e-01, -2.61192967e-01],\n",
       "       [-3.11776074e-01,  6.86617933e-02, -1.24957601e-01,\n",
       "         2.50967307e-01,  3.96171883e-01],\n",
       "       [-2.88681550e-01,  1.89829664e-01, -1.97618132e+00,\n",
       "         1.37235899e-01, -2.61192967e-01],\n",
       "       [-2.65587026e-01,  3.10997534e-01, -3.56360566e-01,\n",
       "         5.35295827e-01,  2.64698913e-01],\n",
       "       [-2.42492502e-01, -2.94841818e-01, -3.56360566e-01,\n",
       "        -9.02269170e-02,  1.33225943e-01],\n",
       "       [-2.19397978e-01,  1.03800476e+00,  1.06445364e-01,\n",
       "         3.64698715e-01,  2.64698913e-01],\n",
       "       [-1.96303454e-01, -2.94841818e-01, -1.24957601e-01,\n",
       "         4.21564419e-01,  3.96171883e-01],\n",
       "       [-1.73208930e-01, -5.25060772e-02, -8.19166497e-01,\n",
       "         1.94101603e-01, -2.61192967e-01],\n",
       "       [-1.50114406e-01,  4.32165405e-01, -1.97618132e+00,\n",
       "         4.21564419e-01,  3.96171883e-01],\n",
       "       [-1.27019882e-01, -2.94841818e-01, -1.28197243e+00,\n",
       "         8.03701950e-02, -1.29719997e-01],\n",
       "       [-1.03925358e-01,  6.86617933e-02,  3.37848329e-01,\n",
       "         5.92161531e-01,  7.90590793e-01],\n",
       "       [-8.08308339e-02,  3.10997534e-01, -5.87763531e-01,\n",
       "         1.37235899e-01,  1.33225943e-01],\n",
       "       [-5.77363100e-02,  5.53333275e-01, -1.28197243e+00,\n",
       "         6.49027235e-01,  3.96171883e-01],\n",
       "       [-3.46417860e-02,  3.10997534e-01, -5.87763531e-01,\n",
       "         5.35295827e-01,  1.75297293e-03],\n",
       "       [-1.15472620e-02,  6.74501145e-01, -3.56360566e-01,\n",
       "         3.07833011e-01,  1.33225943e-01],\n",
       "       [ 1.15472620e-02,  9.16836886e-01, -1.24957601e-01,\n",
       "         3.64698715e-01,  2.64698913e-01],\n",
       "       [ 3.46417860e-02,  1.15917263e+00, -5.87763531e-01,\n",
       "         5.92161531e-01,  2.64698913e-01],\n",
       "       [ 5.77363100e-02,  1.03800476e+00, -1.24957601e-01,\n",
       "         7.05892939e-01,  6.59117823e-01],\n",
       "       [ 8.08308339e-02,  1.89829664e-01, -3.56360566e-01,\n",
       "         4.21564419e-01,  3.96171883e-01],\n",
       "       [ 1.03925358e-01, -1.73673948e-01, -1.05056946e+00,\n",
       "        -1.47092621e-01, -2.61192967e-01],\n",
       "       [ 1.27019882e-01, -4.16009689e-01, -1.51337539e+00,\n",
       "         2.35044910e-02, -1.29719997e-01],\n",
       "       [ 1.50114406e-01, -4.16009689e-01, -1.51337539e+00,\n",
       "        -3.33612130e-02, -2.61192967e-01],\n",
       "       [ 1.73208930e-01, -5.25060772e-02, -8.19166497e-01,\n",
       "         8.03701950e-02,  1.75297293e-03],\n",
       "       [ 1.96303454e-01,  1.89829664e-01, -8.19166497e-01,\n",
       "         7.62758643e-01,  5.27644853e-01],\n",
       "       [ 2.19397978e-01, -5.37177559e-01, -1.24957601e-01,\n",
       "         4.21564419e-01,  3.96171883e-01],\n",
       "       [ 2.42492502e-01,  1.89829664e-01,  8.00654259e-01,\n",
       "         4.21564419e-01,  5.27644853e-01],\n",
       "       [ 2.65587026e-01,  1.03800476e+00,  1.06445364e-01,\n",
       "         5.35295827e-01,  3.96171883e-01],\n",
       "       [ 2.88681550e-01,  5.53333275e-01, -1.74477836e+00,\n",
       "         3.64698715e-01,  1.33225943e-01],\n",
       "       [ 3.11776074e-01, -2.94841818e-01, -1.24957601e-01,\n",
       "         1.94101603e-01,  1.33225943e-01],\n",
       "       [ 3.34870598e-01, -4.16009689e-01, -1.28197243e+00,\n",
       "         1.37235899e-01,  1.33225943e-01],\n",
       "       [ 3.57965122e-01, -4.16009689e-01, -1.05056946e+00,\n",
       "         3.64698715e-01,  1.75297293e-03],\n",
       "       [ 3.81059646e-01,  3.10997534e-01, -1.24957601e-01,\n",
       "         4.78430123e-01,  2.64698913e-01],\n",
       "       [ 4.04154170e-01, -5.25060772e-02, -1.05056946e+00,\n",
       "         1.37235899e-01,  1.75297293e-03],\n",
       "       [ 4.27248694e-01, -1.02184904e+00, -1.74477836e+00,\n",
       "        -2.60824029e-01, -2.61192967e-01],\n",
       "       [ 4.50343218e-01, -2.94841818e-01, -8.19166497e-01,\n",
       "         2.50967307e-01,  1.33225943e-01],\n",
       "       [ 4.73437742e-01, -1.73673948e-01, -1.24957601e-01,\n",
       "         2.50967307e-01,  1.75297293e-03],\n",
       "       [ 4.96532266e-01, -1.73673948e-01, -3.56360566e-01,\n",
       "         2.50967307e-01,  1.33225943e-01],\n",
       "       [ 5.19626790e-01,  4.32165405e-01, -3.56360566e-01,\n",
       "         3.07833011e-01,  1.33225943e-01],\n",
       "       [ 5.42721314e-01, -9.00681170e-01, -1.28197243e+00,\n",
       "        -4.31421141e-01, -1.29719997e-01],\n",
       "       [ 5.65815838e-01, -1.73673948e-01, -5.87763531e-01,\n",
       "         1.94101603e-01,  1.33225943e-01],\n",
       "       [ 5.88910362e-01,  5.53333275e-01,  5.69251294e-01,\n",
       "         1.27454998e+00,  1.71090158e+00],\n",
       "       [ 6.12004886e-01, -5.25060772e-02, -8.19166497e-01,\n",
       "         7.62758643e-01,  9.22063763e-01],\n",
       "       [ 6.35099410e-01,  1.52267624e+00, -1.24957601e-01,\n",
       "         1.21768427e+00,  1.18500970e+00],\n",
       "       [ 6.58193934e-01,  5.53333275e-01, -3.56360566e-01,\n",
       "         1.04708716e+00,  7.90590793e-01],\n",
       "       [ 6.81288458e-01,  7.95669016e-01, -1.24957601e-01,\n",
       "         1.16081857e+00,  1.31648267e+00],\n",
       "       [ 7.04382982e-01,  2.12851559e+00, -1.24957601e-01,\n",
       "         1.61574420e+00,  1.18500970e+00],\n",
       "       [ 7.27477506e-01, -1.14301691e+00, -1.28197243e+00,\n",
       "         4.21564419e-01,  6.59117823e-01],\n",
       "       [ 7.50572030e-01,  1.76501198e+00, -3.56360566e-01,\n",
       "         1.44514709e+00,  7.90590793e-01],\n",
       "       [ 7.73666553e-01,  1.03800476e+00, -1.28197243e+00,\n",
       "         1.16081857e+00,  7.90590793e-01],\n",
       "       [ 7.96761077e-01,  1.64384411e+00,  1.26346019e+00,\n",
       "         1.33141568e+00,  1.71090158e+00],\n",
       "       [ 8.19855601e-01,  7.95669016e-01,  3.37848329e-01,\n",
       "         7.62758643e-01,  1.05353673e+00],\n",
       "       [ 8.42950125e-01,  6.74501145e-01, -8.19166497e-01,\n",
       "         8.76490051e-01,  9.22063763e-01],\n",
       "       [ 8.66044649e-01,  1.15917263e+00, -1.24957601e-01,\n",
       "         9.90221459e-01,  1.18500970e+00],\n",
       "       [ 8.89139173e-01, -1.73673948e-01, -1.28197243e+00,\n",
       "         7.05892939e-01,  1.05353673e+00],\n",
       "       [ 9.12233697e-01, -5.25060772e-02, -5.87763531e-01,\n",
       "         7.62758643e-01,  1.57942861e+00],\n",
       "       [ 9.35328221e-01,  6.74501145e-01,  3.37848329e-01,\n",
       "         8.76490051e-01,  1.44795564e+00],\n",
       "       [ 9.58422745e-01,  7.95669016e-01, -1.24957601e-01,\n",
       "         9.90221459e-01,  7.90590793e-01],\n",
       "       [ 9.81517269e-01,  2.24968346e+00,  1.72626612e+00,\n",
       "         1.67260991e+00,  1.31648267e+00],\n",
       "       [ 1.00461179e+00,  2.24968346e+00, -1.05056946e+00,\n",
       "         1.78634131e+00,  1.44795564e+00],\n",
       "       [ 1.02770632e+00,  1.89829664e-01, -1.97618132e+00,\n",
       "         7.05892939e-01,  3.96171883e-01],\n",
       "       [ 1.05080084e+00,  1.28034050e+00,  3.37848329e-01,\n",
       "         1.10395287e+00,  1.44795564e+00],\n",
       "       [ 1.07389537e+00, -2.94841818e-01, -5.87763531e-01,\n",
       "         6.49027235e-01,  1.05353673e+00],\n",
       "       [ 1.09698989e+00,  2.24968346e+00, -5.87763531e-01,\n",
       "         1.67260991e+00,  1.05353673e+00],\n",
       "       [ 1.12008441e+00,  5.53333275e-01, -8.19166497e-01,\n",
       "         6.49027235e-01,  7.90590793e-01],\n",
       "       [ 1.14317894e+00,  1.03800476e+00,  5.69251294e-01,\n",
       "         1.10395287e+00,  1.18500970e+00],\n",
       "       [ 1.16627346e+00,  1.64384411e+00,  3.37848329e-01,\n",
       "         1.27454998e+00,  7.90590793e-01],\n",
       "       [ 1.18936799e+00,  4.32165405e-01, -5.87763531e-01,\n",
       "         5.92161531e-01,  7.90590793e-01],\n",
       "       [ 1.21246251e+00,  3.10997534e-01, -1.24957601e-01,\n",
       "         6.49027235e-01,  7.90590793e-01],\n",
       "       [ 1.23555703e+00,  6.74501145e-01, -5.87763531e-01,\n",
       "         1.04708716e+00,  1.18500970e+00],\n",
       "       [ 1.25865156e+00,  1.64384411e+00, -1.24957601e-01,\n",
       "         1.16081857e+00,  5.27644853e-01],\n",
       "       [ 1.28174608e+00,  1.88617985e+00, -5.87763531e-01,\n",
       "         1.33141568e+00,  9.22063763e-01],\n",
       "       [ 1.30484061e+00,  2.49201920e+00,  1.72626612e+00,\n",
       "         1.50201279e+00,  1.05353673e+00],\n",
       "       [ 1.32793513e+00,  6.74501145e-01, -5.87763531e-01,\n",
       "         1.04708716e+00,  1.31648267e+00],\n",
       "       [ 1.35102965e+00,  5.53333275e-01, -5.87763531e-01,\n",
       "         7.62758643e-01,  3.96171883e-01],\n",
       "       [ 1.37412418e+00,  3.10997534e-01, -1.05056946e+00,\n",
       "         1.04708716e+00,  2.64698913e-01],\n",
       "       [ 1.39721870e+00,  2.24968346e+00, -1.24957601e-01,\n",
       "         1.33141568e+00,  1.44795564e+00],\n",
       "       [ 1.42031323e+00,  5.53333275e-01,  8.00654259e-01,\n",
       "         1.04708716e+00,  1.57942861e+00],\n",
       "       [ 1.44340775e+00,  6.74501145e-01,  1.06445364e-01,\n",
       "         9.90221459e-01,  7.90590793e-01],\n",
       "       [ 1.46650227e+00,  1.89829664e-01, -1.24957601e-01,\n",
       "         5.92161531e-01,  7.90590793e-01],\n",
       "       [ 1.48959680e+00,  1.28034050e+00,  1.06445364e-01,\n",
       "         9.33355755e-01,  1.18500970e+00],\n",
       "       [ 1.51269132e+00,  1.03800476e+00,  1.06445364e-01,\n",
       "         1.04708716e+00,  1.57942861e+00],\n",
       "       [ 1.53578584e+00,  1.28034050e+00,  1.06445364e-01,\n",
       "         7.62758643e-01,  1.44795564e+00],\n",
       "       [ 1.55888037e+00, -5.25060772e-02, -8.19166497e-01,\n",
       "         7.62758643e-01,  9.22063763e-01],\n",
       "       [ 1.58197489e+00,  1.15917263e+00,  3.37848329e-01,\n",
       "         1.21768427e+00,  1.44795564e+00],\n",
       "       [ 1.60506942e+00,  1.03800476e+00,  5.69251294e-01,\n",
       "         1.10395287e+00,  1.71090158e+00],\n",
       "       [ 1.62816394e+00,  1.03800476e+00, -1.24957601e-01,\n",
       "         8.19624347e-01,  1.44795564e+00],\n",
       "       [ 1.65125846e+00,  5.53333275e-01, -1.28197243e+00,\n",
       "         7.05892939e-01,  9.22063763e-01],\n",
       "       [ 1.67435299e+00,  7.95669016e-01, -1.24957601e-01,\n",
       "         8.19624347e-01,  1.05353673e+00],\n",
       "       [ 1.69744751e+00,  4.32165405e-01,  8.00654259e-01,\n",
       "         9.33355755e-01,  1.44795564e+00],\n",
       "       [ 1.72054204e+00,  6.86617933e-02, -1.24957601e-01,\n",
       "         7.62758643e-01,  7.90590793e-01]])"
      ]
     },
     "execution_count": 51,
     "metadata": {},
     "output_type": "execute_result"
    }
   ],
   "source": [
    "from sklearn.preprocessing import StandardScaler\n",
    "scaler = StandardScaler()\n",
    "scaled_df = scaler.fit_transform(iris_data.drop('Species', axis=1))\n",
    "scaled_df"
   ]
  },
  {
   "cell_type": "code",
   "execution_count": 52,
   "metadata": {},
   "outputs": [
    {
     "data": {
      "text/plain": [
       "numpy.ndarray"
      ]
     },
     "execution_count": 52,
     "metadata": {},
     "output_type": "execute_result"
    }
   ],
   "source": [
    "type(scaled_df)"
   ]
  },
  {
   "cell_type": "code",
   "execution_count": 53,
   "metadata": {},
   "outputs": [
    {
     "data": {
      "text/html": [
       "<div>\n",
       "<style scoped>\n",
       "    .dataframe tbody tr th:only-of-type {\n",
       "        vertical-align: middle;\n",
       "    }\n",
       "\n",
       "    .dataframe tbody tr th {\n",
       "        vertical-align: top;\n",
       "    }\n",
       "\n",
       "    .dataframe thead th {\n",
       "        text-align: right;\n",
       "    }\n",
       "</style>\n",
       "<table border=\"1\" class=\"dataframe\">\n",
       "  <thead>\n",
       "    <tr style=\"text-align: right;\">\n",
       "      <th></th>\n",
       "      <th>0</th>\n",
       "      <th>1</th>\n",
       "      <th>2</th>\n",
       "      <th>3</th>\n",
       "      <th>4</th>\n",
       "    </tr>\n",
       "  </thead>\n",
       "  <tbody>\n",
       "    <tr>\n",
       "      <th>0</th>\n",
       "      <td>-1.720542</td>\n",
       "      <td>-0.900681</td>\n",
       "      <td>1.032057</td>\n",
       "      <td>-1.341272</td>\n",
       "      <td>-1.312977</td>\n",
       "    </tr>\n",
       "    <tr>\n",
       "      <th>1</th>\n",
       "      <td>-1.697448</td>\n",
       "      <td>-1.143017</td>\n",
       "      <td>-0.124958</td>\n",
       "      <td>-1.341272</td>\n",
       "      <td>-1.312977</td>\n",
       "    </tr>\n",
       "    <tr>\n",
       "      <th>2</th>\n",
       "      <td>-1.674353</td>\n",
       "      <td>-1.385353</td>\n",
       "      <td>0.337848</td>\n",
       "      <td>-1.398138</td>\n",
       "      <td>-1.312977</td>\n",
       "    </tr>\n",
       "    <tr>\n",
       "      <th>3</th>\n",
       "      <td>-1.651258</td>\n",
       "      <td>-1.506521</td>\n",
       "      <td>0.106445</td>\n",
       "      <td>-1.284407</td>\n",
       "      <td>-1.312977</td>\n",
       "    </tr>\n",
       "    <tr>\n",
       "      <th>4</th>\n",
       "      <td>-1.628164</td>\n",
       "      <td>-1.021849</td>\n",
       "      <td>1.263460</td>\n",
       "      <td>-1.341272</td>\n",
       "      <td>-1.312977</td>\n",
       "    </tr>\n",
       "  </tbody>\n",
       "</table>\n",
       "</div>"
      ],
      "text/plain": [
       "          0         1         2         3         4\n",
       "0 -1.720542 -0.900681  1.032057 -1.341272 -1.312977\n",
       "1 -1.697448 -1.143017 -0.124958 -1.341272 -1.312977\n",
       "2 -1.674353 -1.385353  0.337848 -1.398138 -1.312977\n",
       "3 -1.651258 -1.506521  0.106445 -1.284407 -1.312977\n",
       "4 -1.628164 -1.021849  1.263460 -1.341272 -1.312977"
      ]
     },
     "execution_count": 53,
     "metadata": {},
     "output_type": "execute_result"
    }
   ],
   "source": [
    "scaled_df=pd.DataFrame(scaled_df)\n",
    "scaled_df.head()"
   ]
  },
  {
   "cell_type": "code",
   "execution_count": 54,
   "metadata": {},
   "outputs": [
    {
     "data": {
      "text/plain": [
       "['Id',\n",
       " 'SepalLengthCm',\n",
       " 'SepalWidthCm',\n",
       " 'PetalLengthCm',\n",
       " 'PetalWidthCm',\n",
       " 'Species']"
      ]
     },
     "execution_count": 54,
     "metadata": {},
     "output_type": "execute_result"
    }
   ],
   "source": [
    "col=list(iris_data.columns)\n",
    "col"
   ]
  },
  {
   "cell_type": "code",
   "execution_count": 55,
   "metadata": {},
   "outputs": [
    {
     "data": {
      "text/plain": [
       "['Id', 'SepalLengthCm', 'SepalWidthCm', 'PetalLengthCm', 'PetalWidthCm']"
      ]
     },
     "execution_count": 55,
     "metadata": {},
     "output_type": "execute_result"
    }
   ],
   "source": [
    "col=col[:-1]\n",
    "col"
   ]
  },
  {
   "cell_type": "code",
   "execution_count": 56,
   "metadata": {},
   "outputs": [
    {
     "data": {
      "text/html": [
       "<div>\n",
       "<style scoped>\n",
       "    .dataframe tbody tr th:only-of-type {\n",
       "        vertical-align: middle;\n",
       "    }\n",
       "\n",
       "    .dataframe tbody tr th {\n",
       "        vertical-align: top;\n",
       "    }\n",
       "\n",
       "    .dataframe thead th {\n",
       "        text-align: right;\n",
       "    }\n",
       "</style>\n",
       "<table border=\"1\" class=\"dataframe\">\n",
       "  <thead>\n",
       "    <tr style=\"text-align: right;\">\n",
       "      <th></th>\n",
       "      <th>Id</th>\n",
       "      <th>SepalLengthCm</th>\n",
       "      <th>SepalWidthCm</th>\n",
       "      <th>PetalLengthCm</th>\n",
       "      <th>PetalWidthCm</th>\n",
       "    </tr>\n",
       "  </thead>\n",
       "  <tbody>\n",
       "    <tr>\n",
       "      <th>0</th>\n",
       "      <td>-1.720542</td>\n",
       "      <td>-0.900681</td>\n",
       "      <td>1.032057</td>\n",
       "      <td>-1.341272</td>\n",
       "      <td>-1.312977</td>\n",
       "    </tr>\n",
       "    <tr>\n",
       "      <th>1</th>\n",
       "      <td>-1.697448</td>\n",
       "      <td>-1.143017</td>\n",
       "      <td>-0.124958</td>\n",
       "      <td>-1.341272</td>\n",
       "      <td>-1.312977</td>\n",
       "    </tr>\n",
       "    <tr>\n",
       "      <th>2</th>\n",
       "      <td>-1.674353</td>\n",
       "      <td>-1.385353</td>\n",
       "      <td>0.337848</td>\n",
       "      <td>-1.398138</td>\n",
       "      <td>-1.312977</td>\n",
       "    </tr>\n",
       "    <tr>\n",
       "      <th>3</th>\n",
       "      <td>-1.651258</td>\n",
       "      <td>-1.506521</td>\n",
       "      <td>0.106445</td>\n",
       "      <td>-1.284407</td>\n",
       "      <td>-1.312977</td>\n",
       "    </tr>\n",
       "    <tr>\n",
       "      <th>4</th>\n",
       "      <td>-1.628164</td>\n",
       "      <td>-1.021849</td>\n",
       "      <td>1.263460</td>\n",
       "      <td>-1.341272</td>\n",
       "      <td>-1.312977</td>\n",
       "    </tr>\n",
       "  </tbody>\n",
       "</table>\n",
       "</div>"
      ],
      "text/plain": [
       "         Id  SepalLengthCm  SepalWidthCm  PetalLengthCm  PetalWidthCm\n",
       "0 -1.720542      -0.900681      1.032057      -1.341272     -1.312977\n",
       "1 -1.697448      -1.143017     -0.124958      -1.341272     -1.312977\n",
       "2 -1.674353      -1.385353      0.337848      -1.398138     -1.312977\n",
       "3 -1.651258      -1.506521      0.106445      -1.284407     -1.312977\n",
       "4 -1.628164      -1.021849      1.263460      -1.341272     -1.312977"
      ]
     },
     "execution_count": 56,
     "metadata": {},
     "output_type": "execute_result"
    }
   ],
   "source": [
    "scaled_df.columns=col\n",
    "scaled_df.head()"
   ]
  },
  {
   "cell_type": "markdown",
   "metadata": {},
   "source": [
    "### Finding the optimal number of clusters:"
   ]
  },
  {
   "cell_type": "markdown",
   "metadata": {},
   "source": [
    " - Using Elbow curve"
   ]
  },
  {
   "cell_type": "code",
   "execution_count": 57,
   "metadata": {},
   "outputs": [],
   "source": [
    "from sklearn.preprocessing import StandardScaler\n",
    "from sklearn.cluster import KMeans\n",
    "from sklearn.metrics import silhouette_score"
   ]
  },
  {
   "cell_type": "code",
   "execution_count": 58,
   "metadata": {},
   "outputs": [
    {
     "data": {
      "image/png": "[encoded data removed]",
      "text/plain": [
       "<Figure size 432x288 with 1 Axes>"
      ]
     },
     "metadata": {
      "needs_background": "light"
     },
     "output_type": "display_data"
    }
   ],
   "source": [
    "# elbow-curve/SSD\n",
    "ssd = []\n",
    "range_n_clusters = [2, 3, 4, 5, 6, 7, 8, 9, 10, 11]\n",
    "for num_clusters in range_n_clusters:\n",
    "    kmeans = KMeans(n_clusters=num_clusters, max_iter=50)\n",
    "    kmeans.fit(scaled_df)\n",
    "    \n",
    "    ssd.append(kmeans.inertia_)\n",
    "    \n",
    "# plot the SSDs for each n_clusters\n",
    "# ssd\n",
    "plt.plot(ssd)\n",
    "plt.show()"
   ]
  },
  {
   "cell_type": "markdown",
   "metadata": {},
   "source": [
    "#### Inference 2 : From the elbow curve we are getting the number of clusters (k) = 1. Therefore, checking the number of clusters using Silhouette Analysis"
   ]
  },
  {
   "cell_type": "markdown",
   "metadata": {},
   "source": [
    " - Using Silhouette Analysis:"
   ]
  },
  {
   "cell_type": "code",
   "execution_count": 59,
   "metadata": {},
   "outputs": [
    {
     "data": {
      "text/html": [
       "<div>\n",
       "<style scoped>\n",
       "    .dataframe tbody tr th:only-of-type {\n",
       "        vertical-align: middle;\n",
       "    }\n",
       "\n",
       "    .dataframe tbody tr th {\n",
       "        vertical-align: top;\n",
       "    }\n",
       "\n",
       "    .dataframe thead th {\n",
       "        text-align: right;\n",
       "    }\n",
       "</style>\n",
       "<table border=\"1\" class=\"dataframe\">\n",
       "  <thead>\n",
       "    <tr style=\"text-align: right;\">\n",
       "      <th></th>\n",
       "      <th>0</th>\n",
       "      <th>1</th>\n",
       "    </tr>\n",
       "  </thead>\n",
       "  <tbody>\n",
       "    <tr>\n",
       "      <th>0</th>\n",
       "      <td>2</td>\n",
       "      <td>0.570815</td>\n",
       "    </tr>\n",
       "    <tr>\n",
       "      <th>1</th>\n",
       "      <td>3</td>\n",
       "      <td>0.452950</td>\n",
       "    </tr>\n",
       "    <tr>\n",
       "      <th>2</th>\n",
       "      <td>4</td>\n",
       "      <td>0.409423</td>\n",
       "    </tr>\n",
       "    <tr>\n",
       "      <th>3</th>\n",
       "      <td>5</td>\n",
       "      <td>0.330120</td>\n",
       "    </tr>\n",
       "    <tr>\n",
       "      <th>4</th>\n",
       "      <td>6</td>\n",
       "      <td>0.329185</td>\n",
       "    </tr>\n",
       "    <tr>\n",
       "      <th>5</th>\n",
       "      <td>7</td>\n",
       "      <td>0.333017</td>\n",
       "    </tr>\n",
       "    <tr>\n",
       "      <th>6</th>\n",
       "      <td>8</td>\n",
       "      <td>0.327960</td>\n",
       "    </tr>\n",
       "    <tr>\n",
       "      <th>7</th>\n",
       "      <td>9</td>\n",
       "      <td>0.299927</td>\n",
       "    </tr>\n",
       "    <tr>\n",
       "      <th>8</th>\n",
       "      <td>10</td>\n",
       "      <td>0.310689</td>\n",
       "    </tr>\n",
       "  </tbody>\n",
       "</table>\n",
       "</div>"
      ],
      "text/plain": [
       "    0         1\n",
       "0   2  0.570815\n",
       "1   3  0.452950\n",
       "2   4  0.409423\n",
       "3   5  0.330120\n",
       "4   6  0.329185\n",
       "5   7  0.333017\n",
       "6   8  0.327960\n",
       "7   9  0.299927\n",
       "8  10  0.310689"
      ]
     },
     "execution_count": 59,
     "metadata": {},
     "output_type": "execute_result"
    }
   ],
   "source": [
    "# silhouette analysis\n",
    "\n",
    "a = []\n",
    "for k in range(2,11):\n",
    "    kmean = KMeans(n_clusters=k).fit(scaled_df)\n",
    "    a.append([k, silhouette_score(scaled_df, kmean.labels_)])\n",
    "\n",
    "sil = pd.DataFrame(a)\n",
    "sil"
   ]
  },
  {
   "cell_type": "code",
   "execution_count": 60,
   "metadata": {},
   "outputs": [
    {
     "data": {
      "image/png": "[encoded data removed]",
      "text/plain": [
       "<Figure size 432x288 with 1 Axes>"
      ]
     },
     "metadata": {
      "needs_background": "light"
     },
     "output_type": "display_data"
    }
   ],
   "source": [
    "plt.plot(sil[0], sil[1]);"
   ]
  },
  {
   "cell_type": "markdown",
   "metadata": {},
   "source": [
    "#### Inference 3: According to the Silhouette analysis, we take the second highest number. Therefore, number of clusters(k) = 3"
   ]
  },
  {
   "cell_type": "markdown",
   "metadata": {},
   "source": [
    "### K-means Clustering:"
   ]
  },
  {
   "cell_type": "code",
   "execution_count": 61,
   "metadata": {},
   "outputs": [
    {
     "data": {
      "text/plain": [
       "KMeans(n_clusters=3, random_state=0)"
      ]
     },
     "execution_count": 61,
     "metadata": {},
     "output_type": "execute_result"
    }
   ],
   "source": [
    "kmeans = KMeans(n_clusters=3, random_state=0)\n",
    "kmeans.fit(scaled_df)"
   ]
  },
  {
   "cell_type": "code",
   "execution_count": 62,
   "metadata": {},
   "outputs": [
    {
     "data": {
      "text/plain": [
       "array([[ 1.14317894,  1.03542672, -0.07079946,  1.04224753,  1.09269889],\n",
       "       [-1.1547262 , -1.01457897,  0.84230679, -1.30487835, -1.25512862],\n",
       "       [ 0.07560189,  0.03894137, -0.73184462,  0.30676007,  0.21508647]])"
      ]
     },
     "execution_count": 62,
     "metadata": {},
     "output_type": "execute_result"
    }
   ],
   "source": [
    "# to see the centroid values the algorithm generated for the final clusters\n",
    "kmeans.cluster_centers_"
   ]
  },
  {
   "cell_type": "code",
   "execution_count": 63,
   "metadata": {},
   "outputs": [
    {
     "data": {
      "text/plain": [
       "array([1, 1, 1, 1, 1, 1, 1, 1, 1, 1, 1, 1, 1, 1, 1, 1, 1, 1, 1, 1, 1, 1,\n",
       "       1, 1, 1, 1, 1, 1, 1, 1, 1, 1, 1, 1, 1, 1, 1, 1, 1, 1, 1, 1, 1, 1,\n",
       "       1, 1, 1, 1, 1, 1, 2, 2, 2, 2, 2, 2, 2, 2, 2, 2, 2, 2, 2, 2, 2, 2,\n",
       "       2, 2, 2, 2, 2, 2, 2, 2, 2, 2, 2, 0, 2, 2, 2, 2, 2, 2, 2, 2, 0, 2,\n",
       "       2, 2, 2, 2, 2, 2, 2, 2, 2, 2, 2, 2, 0, 2, 0, 0, 0, 0, 2, 0, 0, 0,\n",
       "       0, 0, 0, 2, 0, 0, 0, 0, 0, 2, 0, 2, 0, 0, 0, 0, 0, 0, 0, 0, 0, 0,\n",
       "       0, 0, 0, 0, 0, 0, 0, 0, 0, 0, 0, 0, 0, 0, 0, 0, 0, 0])"
      ]
     },
     "execution_count": 63,
     "metadata": {},
     "output_type": "execute_result"
    }
   ],
   "source": [
    "kmeans.labels_"
   ]
  },
  {
   "cell_type": "code",
   "execution_count": 64,
   "metadata": {},
   "outputs": [
    {
     "data": {
      "text/html": [
       "<div>\n",
       "<style scoped>\n",
       "    .dataframe tbody tr th:only-of-type {\n",
       "        vertical-align: middle;\n",
       "    }\n",
       "\n",
       "    .dataframe tbody tr th {\n",
       "        vertical-align: top;\n",
       "    }\n",
       "\n",
       "    .dataframe thead th {\n",
       "        text-align: right;\n",
       "    }\n",
       "</style>\n",
       "<table border=\"1\" class=\"dataframe\">\n",
       "  <thead>\n",
       "    <tr style=\"text-align: right;\">\n",
       "      <th></th>\n",
       "      <th>Id</th>\n",
       "      <th>SepalLengthCm</th>\n",
       "      <th>SepalWidthCm</th>\n",
       "      <th>PetalLengthCm</th>\n",
       "      <th>PetalWidthCm</th>\n",
       "      <th>Species</th>\n",
       "    </tr>\n",
       "  </thead>\n",
       "  <tbody>\n",
       "    <tr>\n",
       "      <th>0</th>\n",
       "      <td>1</td>\n",
       "      <td>5.1</td>\n",
       "      <td>3.5</td>\n",
       "      <td>1.4</td>\n",
       "      <td>0.2</td>\n",
       "      <td>Iris-setosa</td>\n",
       "    </tr>\n",
       "    <tr>\n",
       "      <th>1</th>\n",
       "      <td>2</td>\n",
       "      <td>4.9</td>\n",
       "      <td>3.0</td>\n",
       "      <td>1.4</td>\n",
       "      <td>0.2</td>\n",
       "      <td>Iris-setosa</td>\n",
       "    </tr>\n",
       "    <tr>\n",
       "      <th>2</th>\n",
       "      <td>3</td>\n",
       "      <td>4.7</td>\n",
       "      <td>3.2</td>\n",
       "      <td>1.3</td>\n",
       "      <td>0.2</td>\n",
       "      <td>Iris-setosa</td>\n",
       "    </tr>\n",
       "    <tr>\n",
       "      <th>3</th>\n",
       "      <td>4</td>\n",
       "      <td>4.6</td>\n",
       "      <td>3.1</td>\n",
       "      <td>1.5</td>\n",
       "      <td>0.2</td>\n",
       "      <td>Iris-setosa</td>\n",
       "    </tr>\n",
       "    <tr>\n",
       "      <th>4</th>\n",
       "      <td>5</td>\n",
       "      <td>5.0</td>\n",
       "      <td>3.6</td>\n",
       "      <td>1.4</td>\n",
       "      <td>0.2</td>\n",
       "      <td>Iris-setosa</td>\n",
       "    </tr>\n",
       "  </tbody>\n",
       "</table>\n",
       "</div>"
      ],
      "text/plain": [
       "   Id  SepalLengthCm  SepalWidthCm  PetalLengthCm  PetalWidthCm      Species\n",
       "0   1            5.1           3.5            1.4           0.2  Iris-setosa\n",
       "1   2            4.9           3.0            1.4           0.2  Iris-setosa\n",
       "2   3            4.7           3.2            1.3           0.2  Iris-setosa\n",
       "3   4            4.6           3.1            1.5           0.2  Iris-setosa\n",
       "4   5            5.0           3.6            1.4           0.2  Iris-setosa"
      ]
     },
     "execution_count": 64,
     "metadata": {},
     "output_type": "execute_result"
    }
   ],
   "source": [
    "iris_data.head()"
   ]
  },
  {
   "cell_type": "code",
   "execution_count": 65,
   "metadata": {},
   "outputs": [
    {
     "data": {
      "text/html": [
       "<div>\n",
       "<style scoped>\n",
       "    .dataframe tbody tr th:only-of-type {\n",
       "        vertical-align: middle;\n",
       "    }\n",
       "\n",
       "    .dataframe tbody tr th {\n",
       "        vertical-align: top;\n",
       "    }\n",
       "\n",
       "    .dataframe thead th {\n",
       "        text-align: right;\n",
       "    }\n",
       "</style>\n",
       "<table border=\"1\" class=\"dataframe\">\n",
       "  <thead>\n",
       "    <tr style=\"text-align: right;\">\n",
       "      <th></th>\n",
       "      <th>Id</th>\n",
       "      <th>SepalLengthCm</th>\n",
       "      <th>SepalWidthCm</th>\n",
       "      <th>PetalLengthCm</th>\n",
       "      <th>PetalWidthCm</th>\n",
       "      <th>Species</th>\n",
       "      <th>labels</th>\n",
       "    </tr>\n",
       "  </thead>\n",
       "  <tbody>\n",
       "    <tr>\n",
       "      <th>0</th>\n",
       "      <td>1</td>\n",
       "      <td>5.1</td>\n",
       "      <td>3.5</td>\n",
       "      <td>1.4</td>\n",
       "      <td>0.2</td>\n",
       "      <td>Iris-setosa</td>\n",
       "      <td>1</td>\n",
       "    </tr>\n",
       "    <tr>\n",
       "      <th>1</th>\n",
       "      <td>2</td>\n",
       "      <td>4.9</td>\n",
       "      <td>3.0</td>\n",
       "      <td>1.4</td>\n",
       "      <td>0.2</td>\n",
       "      <td>Iris-setosa</td>\n",
       "      <td>1</td>\n",
       "    </tr>\n",
       "    <tr>\n",
       "      <th>2</th>\n",
       "      <td>3</td>\n",
       "      <td>4.7</td>\n",
       "      <td>3.2</td>\n",
       "      <td>1.3</td>\n",
       "      <td>0.2</td>\n",
       "      <td>Iris-setosa</td>\n",
       "      <td>1</td>\n",
       "    </tr>\n",
       "    <tr>\n",
       "      <th>3</th>\n",
       "      <td>4</td>\n",
       "      <td>4.6</td>\n",
       "      <td>3.1</td>\n",
       "      <td>1.5</td>\n",
       "      <td>0.2</td>\n",
       "      <td>Iris-setosa</td>\n",
       "      <td>1</td>\n",
       "    </tr>\n",
       "    <tr>\n",
       "      <th>4</th>\n",
       "      <td>5</td>\n",
       "      <td>5.0</td>\n",
       "      <td>3.6</td>\n",
       "      <td>1.4</td>\n",
       "      <td>0.2</td>\n",
       "      <td>Iris-setosa</td>\n",
       "      <td>1</td>\n",
       "    </tr>\n",
       "  </tbody>\n",
       "</table>\n",
       "</div>"
      ],
      "text/plain": [
       "   Id  SepalLengthCm  SepalWidthCm  PetalLengthCm  PetalWidthCm      Species  \\\n",
       "0   1            5.1           3.5            1.4           0.2  Iris-setosa   \n",
       "1   2            4.9           3.0            1.4           0.2  Iris-setosa   \n",
       "2   3            4.7           3.2            1.3           0.2  Iris-setosa   \n",
       "3   4            4.6           3.1            1.5           0.2  Iris-setosa   \n",
       "4   5            5.0           3.6            1.4           0.2  Iris-setosa   \n",
       "\n",
       "   labels  \n",
       "0       1  \n",
       "1       1  \n",
       "2       1  \n",
       "3       1  \n",
       "4       1  "
      ]
     },
     "execution_count": 65,
     "metadata": {},
     "output_type": "execute_result"
    }
   ],
   "source": [
    "iris_data['labels'] = kmeans.labels_\n",
    "iris_data.head()"
   ]
  },
  {
   "cell_type": "code",
   "execution_count": 66,
   "metadata": {},
   "outputs": [
    {
     "data": {
      "text/html": [
       "<div>\n",
       "<style scoped>\n",
       "    .dataframe tbody tr th:only-of-type {\n",
       "        vertical-align: middle;\n",
       "    }\n",
       "\n",
       "    .dataframe tbody tr th {\n",
       "        vertical-align: top;\n",
       "    }\n",
       "\n",
       "    .dataframe thead th {\n",
       "        text-align: right;\n",
       "    }\n",
       "</style>\n",
       "<table border=\"1\" class=\"dataframe\">\n",
       "  <thead>\n",
       "    <tr style=\"text-align: right;\">\n",
       "      <th></th>\n",
       "      <th>Id</th>\n",
       "      <th>SepalLengthCm</th>\n",
       "      <th>SepalWidthCm</th>\n",
       "      <th>PetalLengthCm</th>\n",
       "      <th>PetalWidthCm</th>\n",
       "      <th>Species</th>\n",
       "      <th>labels</th>\n",
       "    </tr>\n",
       "  </thead>\n",
       "  <tbody>\n",
       "    <tr>\n",
       "      <th>145</th>\n",
       "      <td>146</td>\n",
       "      <td>6.7</td>\n",
       "      <td>3.0</td>\n",
       "      <td>5.2</td>\n",
       "      <td>2.3</td>\n",
       "      <td>Iris-virginica</td>\n",
       "      <td>0</td>\n",
       "    </tr>\n",
       "    <tr>\n",
       "      <th>146</th>\n",
       "      <td>147</td>\n",
       "      <td>6.3</td>\n",
       "      <td>2.5</td>\n",
       "      <td>5.0</td>\n",
       "      <td>1.9</td>\n",
       "      <td>Iris-virginica</td>\n",
       "      <td>0</td>\n",
       "    </tr>\n",
       "    <tr>\n",
       "      <th>147</th>\n",
       "      <td>148</td>\n",
       "      <td>6.5</td>\n",
       "      <td>3.0</td>\n",
       "      <td>5.2</td>\n",
       "      <td>2.0</td>\n",
       "      <td>Iris-virginica</td>\n",
       "      <td>0</td>\n",
       "    </tr>\n",
       "    <tr>\n",
       "      <th>148</th>\n",
       "      <td>149</td>\n",
       "      <td>6.2</td>\n",
       "      <td>3.4</td>\n",
       "      <td>5.4</td>\n",
       "      <td>2.3</td>\n",
       "      <td>Iris-virginica</td>\n",
       "      <td>0</td>\n",
       "    </tr>\n",
       "    <tr>\n",
       "      <th>149</th>\n",
       "      <td>150</td>\n",
       "      <td>5.9</td>\n",
       "      <td>3.0</td>\n",
       "      <td>5.1</td>\n",
       "      <td>1.8</td>\n",
       "      <td>Iris-virginica</td>\n",
       "      <td>0</td>\n",
       "    </tr>\n",
       "  </tbody>\n",
       "</table>\n",
       "</div>"
      ],
      "text/plain": [
       "      Id  SepalLengthCm  SepalWidthCm  PetalLengthCm  PetalWidthCm  \\\n",
       "145  146            6.7           3.0            5.2           2.3   \n",
       "146  147            6.3           2.5            5.0           1.9   \n",
       "147  148            6.5           3.0            5.2           2.0   \n",
       "148  149            6.2           3.4            5.4           2.3   \n",
       "149  150            5.9           3.0            5.1           1.8   \n",
       "\n",
       "            Species  labels  \n",
       "145  Iris-virginica       0  \n",
       "146  Iris-virginica       0  \n",
       "147  Iris-virginica       0  \n",
       "148  Iris-virginica       0  \n",
       "149  Iris-virginica       0  "
      ]
     },
     "execution_count": 66,
     "metadata": {},
     "output_type": "execute_result"
    }
   ],
   "source": [
    "iris_data.tail()"
   ]
  },
  {
   "cell_type": "code",
   "execution_count": 67,
   "metadata": {},
   "outputs": [
    {
     "data": {
      "text/plain": [
       "2    53\n",
       "1    50\n",
       "0    47\n",
       "Name: labels, dtype: int64"
      ]
     },
     "execution_count": 67,
     "metadata": {},
     "output_type": "execute_result"
    }
   ],
   "source": [
    "iris_data['labels'].value_counts()"
   ]
  },
  {
   "cell_type": "markdown",
   "metadata": {},
   "source": [
    "### Cluster Profiling:"
   ]
  },
  {
   "cell_type": "code",
   "execution_count": 68,
   "metadata": {},
   "outputs": [
    {
     "data": {
      "text/html": [
       "<div>\n",
       "<style scoped>\n",
       "    .dataframe tbody tr th:only-of-type {\n",
       "        vertical-align: middle;\n",
       "    }\n",
       "\n",
       "    .dataframe tbody tr th {\n",
       "        vertical-align: top;\n",
       "    }\n",
       "\n",
       "    .dataframe thead th {\n",
       "        text-align: right;\n",
       "    }\n",
       "</style>\n",
       "<table border=\"1\" class=\"dataframe\">\n",
       "  <thead>\n",
       "    <tr style=\"text-align: right;\">\n",
       "      <th></th>\n",
       "      <th>SepalLengthCm</th>\n",
       "      <th>SepalWidthCm</th>\n",
       "      <th>PetalLengthCm</th>\n",
       "      <th>PetalWidthCm</th>\n",
       "    </tr>\n",
       "    <tr>\n",
       "      <th>labels</th>\n",
       "      <th></th>\n",
       "      <th></th>\n",
       "      <th></th>\n",
       "      <th></th>\n",
       "    </tr>\n",
       "  </thead>\n",
       "  <tbody>\n",
       "    <tr>\n",
       "      <th>0</th>\n",
       "      <td>6.697872</td>\n",
       "      <td>3.023404</td>\n",
       "      <td>5.591489</td>\n",
       "      <td>2.029787</td>\n",
       "    </tr>\n",
       "    <tr>\n",
       "      <th>1</th>\n",
       "      <td>5.006000</td>\n",
       "      <td>3.418000</td>\n",
       "      <td>1.464000</td>\n",
       "      <td>0.244000</td>\n",
       "    </tr>\n",
       "    <tr>\n",
       "      <th>2</th>\n",
       "      <td>5.875472</td>\n",
       "      <td>2.737736</td>\n",
       "      <td>4.298113</td>\n",
       "      <td>1.362264</td>\n",
       "    </tr>\n",
       "  </tbody>\n",
       "</table>\n",
       "</div>"
      ],
      "text/plain": [
       "        SepalLengthCm  SepalWidthCm  PetalLengthCm  PetalWidthCm\n",
       "labels                                                          \n",
       "0            6.697872      3.023404       5.591489      2.029787\n",
       "1            5.006000      3.418000       1.464000      0.244000\n",
       "2            5.875472      2.737736       4.298113      1.362264"
      ]
     },
     "execution_count": 68,
     "metadata": {},
     "output_type": "execute_result"
    }
   ],
   "source": [
    "iris_data[['SepalLengthCm','SepalWidthCm','PetalLengthCm','PetalWidthCm','labels']].groupby('labels').mean()"
   ]
  },
  {
   "cell_type": "code",
   "execution_count": 69,
   "metadata": {},
   "outputs": [
    {
     "data": {
      "text/plain": [
       "<Figure size 720x720 with 0 Axes>"
      ]
     },
     "metadata": {},
     "output_type": "display_data"
    },
    {
     "data": {
      "image/png": "[encoded data removed]",
      "text/plain": [
       "<Figure size 432x288 with 1 Axes>"
      ]
     },
     "metadata": {
      "needs_background": "light"
     },
     "output_type": "display_data"
    }
   ],
   "source": [
    "plt.figure(figsize=[10,10])\n",
    "iris_data[['SepalLengthCm','SepalWidthCm','PetalLengthCm','PetalWidthCm','labels']].groupby('labels').mean().plot(kind= 'bar')\n",
    "plt.show()"
   ]
  },
  {
   "cell_type": "code",
   "execution_count": null,
   "metadata": {},
   "outputs": [],
   "source": []
  }
 ],
 "metadata": {
  "kernelspec": {
   "display_name": "Python 3",
   "language": "python",
   "name": "python3"
  },
  "language_info": {
   "codemirror_mode": {
    "name": "ipython",
    "version": 3
   },
   "file_extension": ".py",
   "mimetype": "text/x-python",
   "name": "python",
   "nbconvert_exporter": "python",
   "pygments_lexer": "ipython3",
   "version": "3.8.3"
  }
 },
 "nbformat": 4,
 "nbformat_minor": 4
}
